{
  "nbformat": 4,
  "nbformat_minor": 0,
  "metadata": {
    "colab": {
      "provenance": [],
      "authorship_tag": "ABX9TyMjQKvLk2NOZFMo+yH1PO5K",
      "include_colab_link": true
    },
    "kernelspec": {
      "name": "ir",
      "display_name": "R"
    },
    "language_info": {
      "name": "R"
    }
  },
  "cells": [
    {
      "cell_type": "markdown",
      "metadata": {
        "id": "view-in-github",
        "colab_type": "text"
      },
      "source": [
        "<a href=\"https://colab.research.google.com/github/NikolayLenkovNikolaev/Bayesian_Statistics/blob/main/Bayes_Analysis.ipynb\" target=\"_parent\"><img src=\"https://colab.research.google.com/assets/colab-badge.svg\" alt=\"Open In Colab\"/></a>"
      ]
    },
    {
      "cell_type": "code",
      "execution_count": null,
      "metadata": {
        "id": "oSS5R9xpPXLc"
      },
      "outputs": [],
      "source": []
    },
    {
      "cell_type": "markdown",
      "source": [
        "## Definizione di Probabilita:\n",
        "\n",
        "- Razionale o classica: la probabilita dell'evento E e' il rapporto tra il numero n(E) dei casi favorevoli al verificarsi di E ed n_T, numero dei casi , perche tutti ugualmente probabili:\n",
        "$$p(E)= == \\frac{n(E)}{n_T}$$\n",
        "\n",
        "- Asintotica o frequentista: data una sequenza indefinita di prove tutte condotte nelle stesse condiziooni, si definisce probabiilita dell'evento E il limite della proporzione empirica di successo $f_N (E)$ al divergere del numero N delle proe:\n",
        "$$p(E)=def=lin_{n->\\infty}f_N(E)$$\n",
        "\n",
        "- Soggettiva: La probabilita di un evento E e' la quoita p(E) che un individuo prima di dover pagara ad un banco per ricevere 1 oveero 0 verificarsi o nonverificandosi E. Le valutazioni di probabilita degli eventi devono rispondere ai pricipi di equita e coerenza.\n",
        "\n",
        "-Una comeesse risponde ai principi di:\n",
        "- equita: allora che il ruolo di banco e giocatore sono scambiabii in ogni momento del gioco e sempre alle stesse condizioni\n",
        "- coerenza se non vi sono combinazioni di scommesse che consentano (sia al banco che al giocatore) di realizzare rperdite o vincite certe.\n",
        "\n"
      ],
      "metadata": {
        "id": "UwzN7MFFPYIV"
      }
    },
    {
      "cell_type": "markdown",
      "source": [
        "Process:\n",
        "1. sewtting up a **full probability model** - a joint prob.ddistr for all observable and unobservable quntities in a problem. The model should be consistent with knowladge about the underlying scientific problem and the data collection process.\n",
        "2. conditioning on observed data: calculating and interpreting the appropriiate *posterior distrib* - the conditional prob.distr. of the unobserved quantitites of ultimate interest, given the observed data.\n",
        "3. evaluating the fit of the model and the implications of the resulting posterior distribution: does the model fit the data, are the substantive coclusions reasonable, and how sensitive are the results to the modeling assumptions in step 1. ?\n",
        "\n",
        "Stat.Inferece: drawing conclusions, from numerical data, about quantites that are not observed.\n",
        "\n",
        "$\\theta$ - unobser4ved vector quanitties or population parameters of interest\n",
        "\n",
        "y - observed data\n",
        "\n",
        "$\\tilde{y}$ - denote unknown, but potentially observed, quantitites\n",
        "\n",
        "Upper-case Romman letters  for observed or observable matrices.\n",
        "\n",
        "if $u$ is a vector witn n components - $U^T u$ is a scalar and $uu^T$ an $n *n$ matrix\n",
        "\n",
        "n - unit or object\n",
        "\n",
        "$y= (y_1...y_1)$"
      ],
      "metadata": {
        "id": "2Nr5QHmIPYKy"
      }
    },
    {
      "cell_type": "markdown",
      "source": [
        "covariates  or explanatory variables - x\n",
        "\n",
        "hierarchical - multilevel models: information is available on several different leveles of observational units.\n",
        "\n",
        "p(.|.) - conditional\n",
        "\n",
        "p(.) - marginal\n",
        "\n",
        "distribution == density\n",
        "\n",
        "\n",
        "Bayes Rule:\n",
        "- sampling distribution - data ditsrib: $p(y|\\theta)$\n",
        "- prior distr. $p(\\theta)$\n",
        "- $p(\\theta, y)= p(\\theta)p(y|\\theta)$\n",
        "\n",
        "- posterior density= Bayes ryule = p(\\theta|y)= \\frac{p(\\theta)p(y|\\theta)}{p(y)}\n",
        "\n",
        "where $p(y)= \\sum_{\\theta}p(\\theta)p(y|\\theta)$ and the sum is over all possible values of $\\theta$ or $p(y)= \\int p(\\theta)p(y|\\theta)d\\theta$\n",
        "\n",
        "unnormalized posterior density: $p(\\theta|y) ∝ p(\\theta)p(y|\\theta)$\n",
        "\n",
        "Bayesian inference obeys in likelihood principle"
      ],
      "metadata": {
        "id": "G00ZPDmQPYNX"
      }
    },
    {
      "cell_type": "markdown",
      "source": [
        "The ratio of the posterior density evaluated at the points $\\theta_1, \\theta_2$ under given model is ODDS for $\\theta_1$ compared to $\\theta_2$\n",
        "\n",
        "Likelihood ratio: $\\frac{p(y|\\theta_1)}{p(y|\\theta_2)}= \\frac{p(\\theta_1)p(y|\\theta_1)  }{ }$"
      ],
      "metadata": {
        "id": "xP0jiQE8PYPq"
      }
    },
    {
      "cell_type": "markdown",
      "source": [
        "# Esercizio 1\n",
        "Supponendo (per assurdo) che nella popolazione italiana:\n",
        "- il 36% dei cittadini siano fumatori (F),\n",
        "\n",
        "- il 3% siano asmatici (A) e\n",
        "\n",
        "- il 2% siano sia fumatori che asmatici (A,F).\n",
        "\n",
        "Si determini:\n",
        "- 1.1 La probabilità che un individuo scelto a caso sia asmatico se è fumatore.\n",
        "\n",
        "- 1.2 La probabilità che sia fumatore se è asmatico.\n",
        "\n",
        "1.1.\n",
        "\n",
        "$$P(A|F)= \\frac{P(A \\cap F)}{P(F)}$$"
      ],
      "metadata": {
        "id": "LqjQebZFp62K"
      }
    },
    {
      "cell_type": "code",
      "source": [
        "a <- 0.03\n",
        "f <- 0.36\n",
        "af <- 0.02\n",
        "\n",
        "\n",
        "round(af/f, 3)"
      ],
      "metadata": {
        "colab": {
          "base_uri": "https://localhost:8080/",
          "height": 34
        },
        "id": "n6kQ3VWDpzXx",
        "outputId": "8a5e770d-6427-4b82-db10-f59d09c21ce8"
      },
      "execution_count": 1,
      "outputs": [
        {
          "output_type": "display_data",
          "data": {
            "text/html": [
              "0.056"
            ],
            "text/markdown": "0.056",
            "text/latex": "0.056",
            "text/plain": [
              "[1] 0.056"
            ]
          },
          "metadata": {}
        }
      ]
    },
    {
      "cell_type": "markdown",
      "source": [
        "1.2.\n",
        "\n",
        "$$P(A|F)= \\frac{P(A \\cap F)}{P(A)}$$"
      ],
      "metadata": {
        "id": "Dg95Tu30p-v_"
      }
    },
    {
      "cell_type": "code",
      "source": [
        "round(af/a, 3)"
      ],
      "metadata": {
        "colab": {
          "base_uri": "https://localhost:8080/",
          "height": 34
        },
        "id": "t9fBY2YlkQDe",
        "outputId": "f3e773d6-8a82-4512-c1a3-ec00d4c22023"
      },
      "execution_count": 2,
      "outputs": [
        {
          "output_type": "display_data",
          "data": {
            "text/html": [
              "0.667"
            ],
            "text/markdown": "0.667",
            "text/latex": "0.667",
            "text/plain": [
              "[1] 0.667"
            ]
          },
          "metadata": {}
        }
      ]
    },
    {
      "cell_type": "markdown",
      "source": [
        "# Esercizio 2\n",
        "Si suppone che il tampone rapido riconosca la presenza di COVID-19 quando questo\n",
        "è in corso nel 96% dei casi ma che fornisca un falso positivo (esito positivo quando la malattia non è in atto) nel 2% dei casi. Si suppone che 0.5% della popolazione abbia la malattia.\n",
        "- 2.1 Si calcoli la probabilità che una persona scelta a casa abbia la malattia (C)\n",
        "quando il risultato del test è positivo (P).\n",
        "\n",
        "## Soluzione:\n",
        "\n",
        "Siamo interesati a calcolare la probabilita P(C|P) sapendo che P(P|C)=0.96 e che P(P|C^c)= 0.02\n",
        "\n",
        "$$P(C|P)= \\frac{P(P|C).P(C) }{P(P|C)P(C) + P(P(C^c)P(C^c))}$$\n"
      ],
      "metadata": {
        "id": "28qN1S5Np5as"
      }
    },
    {
      "cell_type": "code",
      "source": [
        "round(0.96*0.005 / ((0.96* 0.005) + (0.02 * 0.995)), 3)"
      ],
      "metadata": {
        "id": "szequnDRqFIF"
      },
      "execution_count": null,
      "outputs": []
    },
    {
      "cell_type": "markdown",
      "source": [
        "## Esercizio 3\n",
        "Si suppone (per assurdo) che in una certa settimana tra i ricoverati di un ospedale\n",
        "specializzato il 46% dei pazienti abbia problemi di depressione (D), il 30% problemi\n",
        "di ansia (A) e il 24% problemi di bipolarismo (B).\n",
        "\n",
        "Inoltre, è ricoverato per la prima volta (N):\n",
        "- il 10% dei pazienti con preoblemi di depressione;\n",
        "- il 33% dei pazienti con problemi di ansia;\n",
        "- il 10% dei pazienti con problemi di bipolarismo.\n",
        "\n",
        "- 3.1 Si determini p(N) ovvero la probabilità complessiva riferita ai nuovi ricoverati\n",
        "per quella settimana.\n",
        "\n",
        "- 3.2 Si supponga di avere la necessità di arruolare dei pazienti per un trial clinico e si\n",
        "determini la probabilità di arruolare un paziente che soffre del disturbo bipolare al primo ricovero.\n",
        "\n",
        "## SOLUZIONE ESERCIZIO 3\n",
        "3.1\n",
        "Siamo interessati a determinare la probabilità 𝑃 (𝑁 ) ovvero la probabilità complessiva riferita\n",
        "ai nuovi ricoverati per quella settimana. Applichiamo la legge delle probabilità totali:\n",
        "\n",
        "$$ P(N) = P(P|D).P(D) + P(N|A).P(A) + P(N|B).P(B)$$\n",
        "\n",
        "$$= P(N\\cap D)+ P(N\\cap A) + P(N \\cap B)$$"
      ],
      "metadata": {
        "id": "_Gz_se8DqKrR"
      }
    },
    {
      "cell_type": "code",
      "source": [
        "round(0.10*0.46 + 0.33*0.30 + 0.10*0.24, 3)"
      ],
      "metadata": {
        "id": "4Ib2KANwqK15"
      },
      "execution_count": null,
      "outputs": []
    },
    {
      "cell_type": "markdown",
      "source": [
        "3.2\n",
        "\n",
        "Vogliamo ora determinare la probabilità di arruolare un paziente che soffre del disturbo bipolare e\n",
        "che è al primo ricovero, ovvero:\n",
        "\n",
        "$$P(B|N) = \\frac{P(B \\cap N)}{P(N)}$$"
      ],
      "metadata": {
        "id": "W36xFAuUqK-1"
      }
    },
    {
      "cell_type": "code",
      "source": [
        "round((0.10*0.24)/(0.10*0.46 + 0.33*0.30 + 0.10*0.24), 3)"
      ],
      "metadata": {
        "id": "QVyS2vj5qLGQ"
      },
      "execution_count": null,
      "outputs": []
    },
    {
      "cell_type": "markdown",
      "source": [
        "## Esercizio 4\n",
        "Un paziente di nome Franco viene sottoposto ad un test per verificare una malattia\n",
        "rara di cui soffre l’1% della popolazione. Il risulato del test è positivo. Sia 𝐷 l’evento\n",
        "paziente malato e 𝑇 l’evento che il paziente risulti positivo.\n",
        "\n",
        "Supponendo che il test risulti accurato al $95$% $𝑃 (𝑇 |𝐷) = 0.95$% e $𝑃 (𝑇^𝑐|𝐷^𝑐) = 0.95$.\n",
        "\n",
        "- 4.1 Si specifichi come vengono definite le seguenti quantità: $𝑃 (𝑇 |𝐷)$ e $𝑃 (𝑇^c|𝐷^c)$\n",
        "\n",
        "- 4.2 Si ricavi il valore della probabilità condizionata che Franco abbia la malattia data l’evidenza del test.\n",
        "\n",
        "- 4.3 Supponendo che Franco si sottoponga ad un altro test che presenta la stessa sensitività e la\n",
        "stessa specificità del test precedente. Supponendo che il test risulti positivo una seconda volta si\n",
        "calcoli la probabilità che Franco abbia la malattia se è risultato positivo ad entrambi i test.\n",
        "\n",
        "## SOLUZIONE ESERCIZIO 4\n",
        "4.1\n",
        "Le due quantità richieste si definiscono nel seguente modo:\n",
        "- $𝑃 (𝑇 |𝐷)$ è la sensitività o vero tasso dei positivi;\n",
        "- $P(T^c|D^x)$ e' specificita o vero tasso dei negaivi\n",
        "\n",
        "4.2.\n",
        "\n",
        "Si vuole ricavare il valore della probabilità condizionata che Franco abbia la malattia data l’evidenza\n",
        "del test (ovvero test positivo); applicando il teorema di Bayes si ottiene:\n",
        "\n",
        "$$P(D|T)= \\frac{P(T|D)P(D)}{P(T)} = \\frac{P(T|D)P(D)}{P(T|D)P(D)+ P(T|D^c)P(D^c)} $$\n",
        "\n",
        "Riasumento le informazioni a disposizione, abbiamo:\n",
        "- $P(D)= 0.01$\n",
        "\n",
        "- $P(T|D)= 0.95$ e dunque $P(T^c|D)= 0.05$\n",
        "\n",
        "- $P(T^c|D^c)= 0.95$ e dunque $P(T|D^c)= 0.05$\n",
        "\n"
      ],
      "metadata": {
        "id": "TidYJ8ZLqLNT"
      }
    },
    {
      "cell_type": "code",
      "source": [
        "round((0.95*0.01)/(0.95*0.01 + 0.05*0.99), 3)"
      ],
      "metadata": {
        "id": "ZmMPPRlYqLUi"
      },
      "execution_count": null,
      "outputs": []
    },
    {
      "cell_type": "markdown",
      "source": [
        "## 4.3.\n",
        "\n",
        "Ora:\n",
        "- $T_1|\\text{ event - positivo 1 test}$\n",
        "\n",
        "- $T_2|\\text{ evento - positivo 2 test}$\n",
        "\n",
        "Dal punto precedente e' noto che $P(D|T_1)= P(D|T_2)= 0.161$\n",
        "\n",
        "Di conseguenza $P(D^c|T_1)= 1-P(D|T_1)= -.839$ e $P(D^c|T_1)= 1-P(D|T_1)= -.839$\n",
        "\n",
        "Osserviamo inoltre che $T_1, T_2$ sono indipendenti condizionatamente a D e condizionamente a $D^c$\n",
        "\n",
        "Siamo interessati a calcolare la probabilita $P(D|T_1, T_2)$, applicando la formula di Bayes:\n",
        "\n",
        "$$P(D|T_1, T_2)= \\frac{P(T_2|D, T_1)P(D|T_1) }{P(T_2|T_1) }= \\frac{P(T_2|D)P(D|T_1)}{P(T_2|T_1)}$$\n",
        "\n",
        "Sviluppando il denominatore:\n",
        "\n",
        "$$P(D|T_2, T_1)= P(T_2|T_1, D)P(D|T_1)+ P(T_2,|T_1, D^c)P(C^c|T_1) $$\n",
        "\n",
        "$$= P(T_2|D)P(D|T_1) + P(T_2|D^c)P(D^c|T_1) $$\n",
        "\n",
        "Dunque:\n",
        "\n",
        "$$P(D|T_1, T_2)= \\frac{P(T_2|D)P(D|T_1) }{P(T_2|D)P(D|T_1) + P(T_2|D^c)P(D^c|T_1) }  $$\n",
        "\n"
      ],
      "metadata": {
        "id": "UkM6_f_bqLa4"
      }
    },
    {
      "cell_type": "code",
      "source": [
        "round((0.95*0.161) / (0.95*0.161 + 0.05*0.839), 3)"
      ],
      "metadata": {
        "id": "r0c2tpMRqLhy"
      },
      "execution_count": null,
      "outputs": []
    },
    {
      "cell_type": "markdown",
      "source": [
        "## Esercizio 5\n",
        "Supponiamo che una persona trasmetta un film in streaming da due diverse piattaforme\n",
        "online. A volte capita che lo streaming non funzioni bene a causa di problemi\n",
        "tecnici. Consideriamo i seguenti eventi:$ A_i$, 𝑖 = 1, 2,\n",
        "\n",
        "“il film viene trasmesso in streaming dalla piattaforma 𝑖”.\n",
        "\n",
        "Si consideri l’evento 𝐵 che rappresenta l’evento che lo streaming funzioni correttamente.\n",
        "\n",
        "Supponedo di conoscere $𝑃 (𝐴_1) = 0.6$ e\n",
        "$𝑃 (𝐴_2) = 0.4$ (si noti che $𝐴_2 = 𝐴_1$) e $𝑃 (𝐵|𝐴_1) = 0.95$ e $𝑃 (𝐵|𝐴_2) = 0.75$.\n",
        "Si calcoli:\n",
        "- 5.1 la probabilità che un film possa essere trasmesso in streaming correttamente;\n",
        "- 5.2 la probabilità che il film sia stato trasmesso in streaming dalla piattaforma 1\n",
        "e lo streaming funzioni correttamente\n",
        "- 5.3 Ipotizzando di avere un flusso correttamente unzionante. Qual è la probabilità\n",
        "che sia trasmesso dalla piattaforma 1?\n",
        "\n",
        "- 5.4. Supponendo che ci sia un film che non viene trasmesso correttamente $\\B^c$. Sapendo che $P(B^c|A_1)= 0.05$\n",
        "e che $P(B^c|A_2)= 0.25$ i calcoli la probabilità che\n",
        "un film provenga dalla piattaforma 1, dato che il flusso non funziona correttamente.\n",
        "\n",
        "## SOLUZIONI ESERCIZIO 5\n",
        "5.1\n",
        "\n",
        "Vogliamo calcolare la probabilità che lo streaming funzioni correttamente, ovvero 𝑃 (𝐵). Per la\n",
        "legge delle probabilità totali abbiamo:\n",
        "\n",
        "$$P(B)= P(B|A_1)P(A_1)+ P(B|A_2)P(A_2)$$"
      ],
      "metadata": {
        "id": "BLlzPwBAqLn9"
      }
    },
    {
      "cell_type": "code",
      "source": [
        "0.95*0.6 + 0.75*0.4"
      ],
      "metadata": {
        "colab": {
          "base_uri": "https://localhost:8080/"
        },
        "id": "GKChCfYy43-0",
        "outputId": "99dc0b8f-24af-4e31-816b-17daf7049f33"
      },
      "execution_count": 1,
      "outputs": [
        {
          "output_type": "execute_result",
          "data": {
            "text/plain": [
              "0.87"
            ]
          },
          "metadata": {},
          "execution_count": 1
        }
      ]
    },
    {
      "cell_type": "markdown",
      "source": [
        "5.2\n",
        "\n",
        "Vogliamo calcolare la probabilità che lo streaming funzioni correttamente e che sia stato trasmesso\n",
        "dalla piattaforma 1, ovvero $P(A_1, B)= = P(B|A_1)P(A_1)$"
      ],
      "metadata": {
        "id": "kuabgK7-PYR5"
      }
    },
    {
      "cell_type": "code",
      "source": [
        "round(0.95*0.6,3)"
      ],
      "metadata": {
        "id": "3BgASdbE5LOp"
      },
      "execution_count": null,
      "outputs": []
    },
    {
      "cell_type": "markdown",
      "source": [
        "5.3.\n",
        "Vogliamo calcolare la probabilità $P(A_1|B)$. Per la regola di Bayes:\n",
        "\n",
        "$$P(A_1|B)= \\frac{P(B|A_1)P(A_1) }{P(B|A_1)P(A_1) + P(B|A_2)P(A_2) }$$"
      ],
      "metadata": {
        "id": "sCO5StU7PYUc"
      }
    },
    {
      "cell_type": "code",
      "source": [
        "round((0.95*0.6)/(0.95*0.6 + 0.75*0.4), 3)"
      ],
      "metadata": {
        "id": "Dlb6ersW5TBJ"
      },
      "execution_count": null,
      "outputs": []
    },
    {
      "cell_type": "markdown",
      "source": [
        "5.4.\n",
        "\n",
        "Vogliamo calcolare la probabilità $P(A_1|B^c)$. Utilizzando la regola di Bayes:\n",
        "$$P(A_1|B^c)= \\frac{P(B^c|A_1)P(A_1)}{P(B^c|A_1)P(A_1)+ P(B^c|A_2)P(A_2)}$$"
      ],
      "metadata": {
        "id": "UCMwjYM15UZB"
      }
    },
    {
      "cell_type": "code",
      "source": [
        "round((0.05*0.6)/(0.05*0.6 + 0.25*0.4), 3)"
      ],
      "metadata": {
        "id": "xnJya1IA5Uiv"
      },
      "execution_count": null,
      "outputs": []
    },
    {
      "cell_type": "markdown",
      "source": [
        "# Modello beta-binomiale\n",
        "# Domande\n",
        "\n",
        "- Si illustri la regola Baysiana e le caratteristiche dell’inferenza Bayesiana\n",
        "\n",
        "- Si descriva la regola delle probabilità totali\n",
        "\n",
        "- Che cosa si intende per distribuzione predittiva?\n",
        "\n",
        "- Si descriva che cosa si intende quando si parla di distribuzione a priori e che cosa\n",
        "rappresenta.\n",
        "\n",
        "- Che cos’è la costante di normalizzazione?\n",
        "\n",
        "- Come si coniugano le informazioni a priori con quelle campionarie nell’inferenza\n",
        "Bayesiana?\n",
        "\n",
        "- Che cosa comporta il ragionamento sequenziale nell’ambito dell’inferenza\n",
        "Bayesiana?\n",
        "\n",
        "- Si sintetizzi l’esempio riferito al ragionamento sequenziale illustrato nelle dispense\n",
        "circa la probablità di avere una certa malattia ed i risultati di due test diagnostici.\n",
        "\n",
        "- Si illustri il modello Beta-Binomiale e si forniscano anche degli esempi di applicabilità\n",
        "del modello.\n",
        "\n",
        "- Nel modello Beta-Binomiale qual’è la stima puntuale del parametro?\n",
        "\n",
        "- Nel modello Beta-Binomiale quando la distribuzione a posteriori sarà meno simile\n",
        "alla verosimiglianza?\n",
        "\n",
        "- Si descriva l’esempio Bayes’ Billiard\n",
        "\n",
        "- Si illustri la definizione ed il concetto di scambiabilità\n",
        "\n",
        "- Che cosa postula il teorema di De-Finetti?"
      ],
      "metadata": {
        "id": "-gE1ZAI_51jq"
      }
    },
    {
      "cell_type": "markdown",
      "source": [
        "## Applicazioni Beta Binomiale:\n",
        "\n",
        "## Esempio ipertensivo\n",
        "\n",
        "In un campione di 20 (𝑛) 13 (𝑘) sono ipertesi. Si ipotizza un modello Beta-Binomiale per\n",
        "stimare la proporzione di pazienti ipertesi nella popolazione di riferimento.\n",
        "Si disegna la distribuzione a posteriori in base a diverse formulazioni della distribuzione a\n",
        "priori.\n",
        "Si considerano i seguenti tre senari:\n",
        "- (1) distribuzione a priori uniforme 𝛼 = 1, 𝛽 = 1;\n",
        "- (2) distribuzione a priori di Jeffrey con 𝛼 = 𝛽 = 0.5;\n",
        "- (3) distribuzione a priori con 𝛼, 𝛽 > 1\n",
        "\n",
        "## Scenario 1: prior non informativa\n",
        "Suppendo che la distribuzione a priori per il parametro 𝜃 che rappresenta la probabilità di successi (ipertesi) sia una Beta (𝛼,𝛽) tale che 𝛼 = 𝛽 = 1.\n",
        "La verosimiglianza è una Binomiale con kernel proporzionale alla Beta con parametri (𝛼 = 𝑘 + 1) e (𝛽 = 𝑛 − 𝑘 + 1).\n",
        "La distribuzione a posteriori è ancora una Beta con parametri (𝛼 + 𝑘) e (𝛽 + 𝑛 − 𝑘).\n",
        "Nel seguente grafico si visualizzano le tre distribuzioni."
      ],
      "metadata": {
        "id": "MAkGF2ct6J6q"
      }
    },
    {
      "cell_type": "code",
      "source": [
        "alpha <- 1\n",
        "beta <- 1\n",
        "pval <- seq(0,1,by=0.01)\n",
        "## distribuzione a priori\n",
        "theta <- expression(theta)\n",
        "plot(pval, dbeta(pval,alpha,beta),\n",
        "type = \"l\", col = \"blue\", ylim = c(0,6),\n",
        "ylab = \"Densità\", xlab = theta,\n",
        "main = \"Scenario 1: alpha = beta = 1\")\n",
        "## verosimiglianza\n",
        "n <- 20\n",
        "k <- 13\n",
        "lines(pval, dbeta(pval, k+1, n-k+1),\n",
        "lwd = 2,\n",
        "col = \"darkblue\")\n",
        "## distribuzione a posteriori\n",
        "lines(pval, dbeta(pval, k+alpha, n-k+beta),\n",
        "lwd = 1,\n",
        "col = \"red\")\n",
        "legend(\"topleft\",\n",
        "c(\"Distribuzione a Priori\",\"Verosimiglianza\",\"Distribuzione a Posteriori\"),\n",
        "lty=c(1,1,1),\n",
        "lwd=c(1,2,1),\n",
        "col=c( \"blue\",\"darkblue\",\"red\"), cex=0.6)"
      ],
      "metadata": {
        "colab": {
          "base_uri": "https://localhost:8080/",
          "height": 437
        },
        "id": "-4etifWd6KYi",
        "outputId": "fef5e67e-408f-48fe-cced-d7204ff27f1b"
      },
      "execution_count": 1,
      "outputs": [
        {
          "output_type": "display_data",
          "data": {
            "text/plain": [
              "Plot with title “Scenario 1: alpha = beta = 1”"
            ],
            "image/png": "[encoded data removed]"
          },
          "metadata": {
            "image/png": {
              "width": 420,
              "height": 420
            }
          }
        }
      ]
    },
    {
      "cell_type": "markdown",
      "source": [
        "La numerosità campionaria è esigua e quando la prior non è informativa (scenario 1) la\n",
        "distribuzione a posteriori coincide con la verosimiglianza.\n",
        "Il valore atteso della distribuzione a posteriori costistituisce la stima puntuale Bayesiana per\n",
        "il parametro\n"
      ],
      "metadata": {
        "id": "1P5ZO92xFciH"
      }
    },
    {
      "cell_type": "code",
      "source": [
        "(alpha + k)/(n+alpha + beta)\n"
      ],
      "metadata": {
        "colab": {
          "base_uri": "https://localhost:8080/",
          "height": 34
        },
        "id": "1UM0gk8s6Kb8",
        "outputId": "29cd4366-e261-419f-be31-e081bdc7d05c"
      },
      "execution_count": 2,
      "outputs": [
        {
          "output_type": "display_data",
          "data": {
            "text/html": [
              "0.636363636363636"
            ],
            "text/markdown": "0.636363636363636",
            "text/latex": "0.636363636363636",
            "text/plain": [
              "[1] 0.6363636"
            ]
          },
          "metadata": {}
        }
      ]
    },
    {
      "cell_type": "markdown",
      "source": [],
      "metadata": {
        "id": "ewqV46SbFmsd"
      }
    },
    {
      "cell_type": "code",
      "source": [
        "Pertanto la proporzione di ipertesi nella popolazione è 0.64.\n",
        "La moda della distribuzione a priori è un’altra stima puntuale per il parametro e coincide\n",
        "con la stima di massima verosimiglianza che è pari a $𝑘/n$"
      ],
      "metadata": {
        "id": "p63sjercFm3C"
      },
      "execution_count": null,
      "outputs": []
    },
    {
      "cell_type": "code",
      "source": [
        "(alpha + k -1)/(n + alpha + beta -2)\n"
      ],
      "metadata": {
        "colab": {
          "base_uri": "https://localhost:8080/",
          "height": 34
        },
        "id": "ebqkW66MFr3p",
        "outputId": "f8306d58-8084-403b-b2b7-b813355e9f1c"
      },
      "execution_count": 3,
      "outputs": [
        {
          "output_type": "display_data",
          "data": {
            "text/html": [
              "0.65"
            ],
            "text/markdown": "0.65",
            "text/latex": "0.65",
            "text/plain": [
              "[1] 0.65"
            ]
          },
          "metadata": {}
        }
      ]
    },
    {
      "cell_type": "markdown",
      "source": [
        "Le due stime sono simili ma non coincidono.\n",
        "\n",
        "## Scenario 2: prior poco informativa\n",
        "Scegliendo come iperparametri della distribuzione a priori quelli proposti da Jeffrey ovvero\n",
        "𝛼 = 0.5 e 𝛽 = 0.5 la prior non è molto informativa. Il grafico con le tre distribuzioni è il\n",
        "seguente"
      ],
      "metadata": {
        "id": "kbVrZQ3YFhsc"
      }
    },
    {
      "cell_type": "code",
      "source": [
        "alpha <- 0.5\n",
        "beta <- 0.5\n",
        "pval <- seq(0,1,by=0.01)\n",
        "## distribuzione a priori\n",
        "theta <- expression(theta)\n",
        "plot(pval, dbeta(pval,alpha,beta),\n",
        "type = \"l\", col = \"blue\", ylim = c(0,6),\n",
        "ylab = \"Densità\", xlab = theta,\n",
        "main = \"Scenario 2: alpha = beta = 0.5\")\n",
        "## verosimiglianza\n",
        "n <- 20\n",
        "k <- 13\n",
        "lines(pval, dbeta(pval, k+1, n-k+1),\n",
        "lwd = 2,\n",
        "col = \"darkblue\")\n",
        "## distribuzione a posteriori\n",
        "lines(pval, dbeta(pval, k+alpha, n-k+beta),\n",
        "lwd = 1,\n",
        "col = \"red\")\n",
        "legend(\"topleft\",\n",
        "c(\"Distribuzione a Priori\",\"Verosimiglianza\",\"Distribuzione a Posteriori\"),\n",
        "lty=c(1,1,1),\n",
        "lwd=c(1,2,1),\n",
        "col=c( \"blue\",\"darkblue\",\"red\"), cex=0.6)\n"
      ],
      "metadata": {
        "colab": {
          "base_uri": "https://localhost:8080/",
          "height": 437
        },
        "id": "KfwTwJ3bFh5r",
        "outputId": "7082f92b-a477-43b4-879d-c529060eb5bd"
      },
      "execution_count": 5,
      "outputs": [
        {
          "output_type": "display_data",
          "data": {
            "text/plain": [
              "Plot with title “Scenario 2: alpha = beta = 0.5”"
            ],
            "image/png": "[encoded data removed]"
          },
          "metadata": {
            "image/png": {
              "width": 420,
              "height": 420
            }
          }
        }
      ]
    },
    {
      "cell_type": "markdown",
      "source": [
        "In questo scenario si nota chela distribuzione a priori ha una forma ad U caratterizzando\n",
        "una maggiore probabilità per i due estremi. La distribuzione e posteriori risulta leggermente\n",
        "traslata verso destra rispetto alla verosimiglianza e rispetto a quella della figura nello scenario\n",
        "### 1.\n",
        "Il valore atteso adesso è\n"
      ],
      "metadata": {
        "id": "sOpBsv0vF0Ox"
      }
    },
    {
      "cell_type": "code",
      "source": [
        "round((alpha + k)/(n+alpha + beta),4)\n"
      ],
      "metadata": {
        "id": "LrB-qJoQF0U0"
      },
      "execution_count": null,
      "outputs": []
    },
    {
      "cell_type": "markdown",
      "source": [
        "La moda è leggermente superiore a quella osservata per lo scenario 1\n"
      ],
      "metadata": {
        "id": "DfsARb_DF5WC"
      }
    },
    {
      "cell_type": "code",
      "source": [
        "round((alpha + k -1)/(n + alpha + beta -2),4)\n"
      ],
      "metadata": {
        "id": "2aSEat4SF5dJ"
      },
      "execution_count": null,
      "outputs": []
    },
    {
      "cell_type": "markdown",
      "source": [
        "Entrambe le stime puntuali sono leggermente diverse dalla precedenti.\n",
        "### Scenario 3: prior informativa\n",
        "Nel caso in cui si suppone una distribuzione a priori molto informativa ad esempio con\n",
        "𝛼 = 3.26 e 𝛽 = 7.19. Le densità coinvolte sono rappresentate nella figura seguente\n"
      ],
      "metadata": {
        "id": "hWcK32GtF7uH"
      }
    },
    {
      "cell_type": "code",
      "source": [
        "alpha <- 3.26\n",
        "beta <- 7.19\n",
        "pval <- seq(0,1,by=0.01)\n",
        "## distribuzione a priori\n",
        "theta <- expression(theta)\n",
        "plot(pval, dbeta(pval,alpha,beta),\n",
        "type = \"l\", col = \"blue\", ylim = c(0,6),\n",
        "ylab = \"Densità\", xlab = theta,\n",
        "main = \"Scenario 2: alpha = 3.26 beta = 7.19\")\n",
        "## verosimiglianza\n",
        "n <- 20\n",
        "k <- 13\n",
        "lines(pval, dbeta(pval, k+1, n-k+1),\n",
        "lwd = 2,\n",
        "col = \"darkblue\")\n",
        "## distribuzione a posteriori\n",
        "lines(pval, dbeta(pval, k+alpha, n-k+beta),\n",
        "lwd = 1,\n",
        "col = \"red\")\n",
        "legend(\"topleft\",\n",
        "c(\"Distribuzione a Priori\",\"Verosimiglianza\",\"Distribuzione a Posteriori\"),\n",
        "lty=c(1,1,1),\n",
        "lwd=c(1,2,1),\n",
        "col=c( \"blue\",\"darkblue\",\"red\"), cex=0.6)"
      ],
      "metadata": {
        "id": "ipJeJMDLF73P"
      },
      "execution_count": null,
      "outputs": []
    },
    {
      "cell_type": "markdown",
      "source": [
        "In questo caso la distribuzione a priori è molto infomativa e pertanto “trascina” verso sinistra\n",
        "la distribuzione a posteriori che è sempre vicina alla verosimiglianza ma un po’ meno rispetto\n",
        "ai due scenari precenti.\n",
        "La stima puntuale della probabilità di successo in base al valore atteso della distribuzione a\n",
        "posteriori è\n"
      ],
      "metadata": {
        "id": "n_SFUjNeF8B4"
      }
    },
    {
      "cell_type": "code",
      "source": [
        "round((alpha + k)/(n+alpha + beta),4)\n"
      ],
      "metadata": {
        "id": "n3S93v1-F8JH"
      },
      "execution_count": null,
      "outputs": []
    },
    {
      "cell_type": "markdown",
      "source": [
        "Anche la stima in base alla moda è inferiore di quella ricavata nei due precedenti scenari"
      ],
      "metadata": {
        "id": "5JhU6Ow1F8Q9"
      }
    },
    {
      "cell_type": "code",
      "source": [
        "round((alpha + k -1)/(n + alpha + beta -2),4)\n"
      ],
      "metadata": {
        "id": "4FuUQAofF8XE"
      },
      "execution_count": null,
      "outputs": []
    },
    {
      "cell_type": "markdown",
      "source": [
        "Quando la distribuzione a priori è piuttosto informativa essendo la numerosità campionaria\n",
        "non troppo elevata la distribuzione a posteriori risulta influenzata dalla distribuzione a priori\n",
        "ed il peso della funzione di verosimiglianza è minore rispetto ai due precedenti scenari.\n",
        "\n",
        "## Specificazione della distribuzione a priori\n",
        "Si intende stimare la proporzione di pazienti nella popolazione italiana che soffrono di gravi\n",
        "sintomi dopo aver controatto il COVID-19 in un certo momento in cui non erano vaccinati.\n",
        "In base alle conoscenze a priori si assume 0.3 come valore plausibile per la mediana della\n",
        "distribuzione beta assunta come prior e 0.5 come valore plausibile per il 90-esimo percentile.\n",
        "Si utilizza la funzione beta.select della libreria LearnBayes per determinare i parametri\n",
        "𝛼1\n",
        "e 𝛽1 della distribuzione a priori beta che soddisfano le specifiche richieste.\n",
        "La funzione learnBayes::beta.select richiede come input i due quantili in forma di\n",
        "lista. Le misure di posizione devono essere definite come una lista specificando la mediana quantile1 ed il novantesino centile quantile2 della distribuzione\n"
      ],
      "metadata": {
        "id": "kqeBBZcDGKtx"
      }
    },
    {
      "cell_type": "code",
      "source": [
        "quantile1 <- list(p = 0.5, x=0.3); quantile1\n",
        "quantile2 <- list(p = 0.9, x=0.5); quantile2\n"
      ],
      "metadata": {
        "id": "Hnuuhl6XGK2V"
      },
      "execution_count": null,
      "outputs": []
    },
    {
      "cell_type": "markdown",
      "source": [
        "La funzione beta.select restituisce i valori dei due parametri della distribuzione Beta che\n",
        "rispettano i vincoli imposti\n"
      ],
      "metadata": {
        "id": "DNs7RVlwGK8l"
      }
    },
    {
      "cell_type": "code",
      "source": [
        "require(LearnBayes)\n",
        "beta.select(quantile1, quantile2)"
      ],
      "metadata": {
        "id": "tZPukNvDGLCf"
      },
      "execution_count": null,
      "outputs": []
    },
    {
      "cell_type": "markdown",
      "source": [
        "da cui risulta la distribuzione a priori 𝑝(𝜃) ∼ 𝐵𝑒𝑡𝑎(3.26, 7.19) e la proporzione media di\n",
        "ipertesi nella popolazione in base alle conoscenze a priori è\n"
      ],
      "metadata": {
        "id": "n_VYcTrDGLHs"
      }
    },
    {
      "cell_type": "code",
      "source": [
        "M <- 3.26/(3.26+7.19); M"
      ],
      "metadata": {
        "id": "FDQ_eoSBGLPP"
      },
      "execution_count": null,
      "outputs": []
    },
    {
      "cell_type": "markdown",
      "source": [
        "### Determinazione della distribuzione a posteriori\n",
        "Supponendo di osservare un campione casuale di persone ricoverate per COVID-19 in\n",
        "un’ospedale della zona dove su 12 pazienti complessivi (𝑛1\n",
        ") 6 non risultano vaccinati e\n",
        "soffrono di gravi sintomi (𝑘1 = 6)\n",
        "Si disegna:\n",
        "• la distribuzione a priori\n",
        "• la verosimiglianza\n",
        "• la distribuzione a posteriori\n"
      ],
      "metadata": {
        "id": "9YxL0KMGGLVb"
      }
    },
    {
      "cell_type": "code",
      "source": [
        "alpha1 <- 3.26\n",
        "beta1 <- 7.19\n",
        "n1 <- 12\n",
        "k1 <- 6\n",
        "# a priori\n",
        "pval <- seq(0,1, by = 0.01)\n",
        "plot(pval, dbeta(pval,alpha1, beta1),\n",
        "xlab=expression(theta),\n",
        "ylab=\"Densità\",\n",
        "ylim=c(0,7),\n",
        "lty=3,\n",
        "lwd=4,\n",
        "col=\"green\")\n",
        "# verosimiglianza\n",
        "lines(pval,dbeta(pval, k1+1,n1-k1+1),\n",
        "lty = 2,\n",
        "lwd = 1, col = \"darkblue\")\n",
        "# a posteriori\n",
        "lines(pval, dbeta(pval,\n",
        "k1 + alpha1,\n",
        "n1-k1+beta1),\n",
        "lty=1,lwd=4,\n",
        "col=\"orange\")\n",
        "legend(\"topright\",\n",
        "c(\"Distribuzione a Priori\",\"Verosimiglianza\",\"Distribuzione a Posteriori\"),\n",
        "lty=c(1,3,1),\n",
        "lwd=c(3,3,3),\n",
        "col=c(\"green\", \"blue\",\"orange\" ),\n",
        "cex = 0.7)\n",
        "\n"
      ],
      "metadata": {
        "colab": {
          "base_uri": "https://localhost:8080/",
          "height": 437
        },
        "id": "F003wguSGLcG",
        "outputId": "c6d45a5a-5e68-45f4-852c-11e0d7d92ffa"
      },
      "execution_count": 11,
      "outputs": [
        {
          "output_type": "display_data",
          "data": {
            "text/plain": [
              "plot without title"
            ],
            "image/png": "[encoded data removed]"
          },
          "metadata": {
            "image/png": {
              "width": 420,
              "height": 420
            }
          }
        }
      ]
    },
    {
      "cell_type": "markdown",
      "source": [
        "- Si nota che la distribuzione di riferimento per l’inferenza ovvero la distribuzione a posteriori è un compromesso tra la distribuzione iniziale che ha portato ad ipotizzare certi\n",
        "valori per il parametro e la verosimiglianza basata sulle rilevazioni effettuate con il\n",
        "campione.\n",
        "- La media della distribuzione a posteriori si trova tra la media della prior e quella della\n",
        "verosimiglianza.\n",
        "- La distribuzione a posteriori ha una variabilità ridotta rispetto alla variabilità della\n",
        "distribuzione iniziale.\n",
        "\n",
        "### Aggiornamento della distribuzione a posteriori\n",
        "Nel seguito si applica il ragionamento sequenziale e si suppone di osservare un altro campione\n",
        "di pazienti ricoverati in un altro ospedale di Milano la distribuzione a posteriori viene aggiornata in base alle nuove evidenze empiriche. Su 27 pazienti ricoverati per covid-19, 19\n",
        "risultano senza vaccino 𝑛 = 27+12 = 39, 𝑘 = 19+6 = 25.\n",
        "Il confronto grafico tra la prima e la seconda distribuzione a posteriori ci permette di stabilire\n",
        "come si modifica l’inferenza sul parametro a seguito di ulteriori evidenze campionarie\n",
        "\n",
        "\n"
      ],
      "metadata": {
        "id": "XOmUrAlwGLi5"
      }
    },
    {
      "cell_type": "code",
      "source": [
        "k <- 19 +k1\n",
        "n<- 39\n",
        "# a posteriori aggiornata\n",
        "plot(pval, dbeta(pval,\n",
        "alpha1 + k,\n",
        "beta1+n-k),\n",
        "xlab=expression(theta),\n",
        "type = \"l\",\n",
        "main = \"Confronto distr. a posteriori\",\n",
        "ylab=\"Densità\",\n",
        "ylim=c(0,7),\n",
        "lty=1,\n",
        "lwd=3,\n",
        "col=\"blue\")\n",
        "# a posteriori campione 1\n",
        "lines(pval, dbeta(pval,\n",
        "k1 + alpha1,\n",
        "n1-k1+beta1),\n",
        "lty=1,lwd=3,\n",
        "col=\"orange\",\n",
        "add=TRUE)\n",
        "\n",
        "legend(\"topleft\",\n",
        "    c(\"Distribuzione a Posteriori campione 1 e 2\", \"Distribuzione a Posteriori campi\"),\n",
        "    lty=c(1,1),\n",
        "    lwd=c(3,3),\n",
        "    col=c(\"blue\", \"orange\" ),\n",
        "    cex = 0.6)\n"
      ],
      "metadata": {
        "colab": {
          "base_uri": "https://localhost:8080/",
          "height": 474
        },
        "id": "IZ4LxYM0GLov",
        "outputId": "f7872772-d1f0-4be3-daec-5bc266df4108"
      },
      "execution_count": 12,
      "outputs": [
        {
          "output_type": "stream",
          "name": "stderr",
          "text": [
            "Warning message in plot.xy(xy.coords(x, y), type = type, ...):\n",
            "“\"add\" is not a graphical parameter”\n"
          ]
        },
        {
          "output_type": "display_data",
          "data": {
            "text/plain": [
              "Plot with title “Confronto distr. a posteriori”"
            ],
            "image/png": "[encoded data removed]"
          },
          "metadata": {
            "image/png": {
              "width": 420,
              "height": 420
            }
          }
        }
      ]
    },
    {
      "cell_type": "markdown",
      "source": [
        "Il valore atteso della distribuzione a posteriori aggiornata con le ulteriori evidenze campionarie è\n",
        "\n"
      ],
      "metadata": {
        "id": "BpZPtMSoGLvX"
      }
    },
    {
      "cell_type": "code",
      "source": [
        "round((alpha1+k)/(n+alpha1 + beta1),4)"
      ],
      "metadata": {
        "colab": {
          "base_uri": "https://localhost:8080/",
          "height": 34
        },
        "id": "-GEFj2cJGL1z",
        "outputId": "4acfc047-4726-452e-f3b6-2d775392625d"
      },
      "execution_count": 13,
      "outputs": [
        {
          "output_type": "display_data",
          "data": {
            "text/html": [
              "0.5715"
            ],
            "text/markdown": "0.5715",
            "text/latex": "0.5715",
            "text/plain": [
              "[1] 0.5715"
            ]
          },
          "metadata": {}
        }
      ]
    },
    {
      "cell_type": "markdown",
      "source": [
        "### Esempio: Bayes billiard balls\n",
        "Si considera la variabile casuale che identifica il numero di palline blu che si posizionano\n",
        "prima della pallina gialla fissando il numero di palline blu pari a 10.\n",
        "Si ripete l’esperimento di lanciare le palline 100000 volte contando ogni volta il numero dei\n",
        "successi in base a diversi valori della probabilità di successo generati come numeri pseudocasuali da una distribuzione 𝐵𝑒𝑡𝑎(𝛼 = 1, 𝛽 = 1) (uniforme in [0,1]).\n",
        "• Utilizzando una distribuzione a priori non informativa si generano dei numeri\n",
        "pseudo-casuali"
      ],
      "metadata": {
        "id": "hqLP1PzlGL8H"
      }
    },
    {
      "cell_type": "code",
      "source": [
        "nsim <- 10^5\n",
        "set.seed(1234)\n",
        "p <- rbeta(nsim, shape1 = 1, shape2 = 1)\n",
        "length(p)\n",
        "head(p)"
      ],
      "metadata": {
        "colab": {
          "base_uri": "https://localhost:8080/",
          "height": 52
        },
        "id": "ILYijuYeGMCK",
        "outputId": "c4095ea3-b712-427c-c3b8-966ecef3739d"
      },
      "execution_count": 14,
      "outputs": [
        {
          "output_type": "display_data",
          "data": {
            "text/html": [
              "100000"
            ],
            "text/markdown": "100000",
            "text/latex": "100000",
            "text/plain": [
              "[1] 100000"
            ]
          },
          "metadata": {}
        },
        {
          "output_type": "display_data",
          "data": {
            "text/html": [
              "<style>\n",
              ".list-inline {list-style: none; margin:0; padding: 0}\n",
              ".list-inline>li {display: inline-block}\n",
              ".list-inline>li:not(:last-child)::after {content: \"\\00b7\"; padding: 0 .5ex}\n",
              "</style>\n",
              "<ol class=list-inline><li>0.886296588694677</li><li>0.390725267119706</li><li>0.139084616443142</li><li>0.990504243643954</li><li>0.333916241768748</li><li>0.306408708216622</li></ol>\n"
            ],
            "text/markdown": "1. 0.886296588694677\n2. 0.390725267119706\n3. 0.139084616443142\n4. 0.990504243643954\n5. 0.333916241768748\n6. 0.306408708216622\n\n\n",
            "text/latex": "\\begin{enumerate*}\n\\item 0.886296588694677\n\\item 0.390725267119706\n\\item 0.139084616443142\n\\item 0.990504243643954\n\\item 0.333916241768748\n\\item 0.306408708216622\n\\end{enumerate*}\n",
            "text/plain": [
              "[1] 0.8862966 0.3907253 0.1390846 0.9905042 0.3339162 0.3064087"
            ]
          },
          "metadata": {}
        }
      ]
    },
    {
      "cell_type": "markdown",
      "source": [
        "Utilizzando i valori generati si simulano i valori della distribuzione marginale\n",
        "sapendo che fissando 𝑛 come numero complessivo delle prove si ha\n",
        "\n",
        "$$\\int_0^1 x^k (1-x)^{n-k} dx = \\frac{k! (n-k)!}{(n+1)!}$$\n",
        "\n",
        "l’oggetto pxk contiene il numero di successi ottenuti in ogni prova con diversa probabilità di\n",
        "successo 𝑝. Se fissiamo il seme e generiamo l’esito di una sola prova abbiamo\n"
      ],
      "metadata": {
        "id": "DuVmMPrHF8cu"
      }
    },
    {
      "cell_type": "code",
      "source": [
        "n <- 10\n",
        "set.seed(1234)\n",
        "pxk <- rbinom(1,n,p)\n",
        "head(p)\n",
        "head(pxk)\n"
      ],
      "metadata": {
        "colab": {
          "base_uri": "https://localhost:8080/",
          "height": 52
        },
        "id": "uIsGJLxXF8jv",
        "outputId": "bc0eab05-9066-4a89-d030-fadf0f715d77"
      },
      "execution_count": 17,
      "outputs": [
        {
          "output_type": "display_data",
          "data": {
            "text/html": [
              "<style>\n",
              ".list-inline {list-style: none; margin:0; padding: 0}\n",
              ".list-inline>li {display: inline-block}\n",
              ".list-inline>li:not(:last-child)::after {content: \"\\00b7\"; padding: 0 .5ex}\n",
              "</style>\n",
              "<ol class=list-inline><li>0.886296588694677</li><li>0.390725267119706</li><li>0.139084616443142</li><li>0.990504243643954</li><li>0.333916241768748</li><li>0.306408708216622</li></ol>\n"
            ],
            "text/markdown": "1. 0.886296588694677\n2. 0.390725267119706\n3. 0.139084616443142\n4. 0.990504243643954\n5. 0.333916241768748\n6. 0.306408708216622\n\n\n",
            "text/latex": "\\begin{enumerate*}\n\\item 0.886296588694677\n\\item 0.390725267119706\n\\item 0.139084616443142\n\\item 0.990504243643954\n\\item 0.333916241768748\n\\item 0.306408708216622\n\\end{enumerate*}\n",
            "text/plain": [
              "[1] 0.8862966 0.3907253 0.1390846 0.9905042 0.3339162 0.3064087"
            ]
          },
          "metadata": {}
        },
        {
          "output_type": "display_data",
          "data": {
            "text/html": [
              "10"
            ],
            "text/markdown": "10",
            "text/latex": "10",
            "text/plain": [
              "[1] 10"
            ]
          },
          "metadata": {}
        }
      ]
    },
    {
      "cell_type": "markdown",
      "source": [
        "dove il primo elemento pari a 10 indica che nel primo esperimento su 10 prove sono stati\n",
        "ottenuti 10 successi con una probabilità di successo è 0.89."
      ],
      "metadata": {
        "id": "RYQExz4MHssX"
      }
    },
    {
      "cell_type": "code",
      "source": [
        "n <- 10\n",
        "set.seed(1234)\n",
        "pxk <- rbinom(nsim,n,p)\n",
        "head(pxk)\n"
      ],
      "metadata": {
        "colab": {
          "base_uri": "https://localhost:8080/",
          "height": 34
        },
        "id": "LOQOnGkkHs2h",
        "outputId": "c928094f-19f6-42ed-d600-637cc61f9d8a"
      },
      "execution_count": 18,
      "outputs": [
        {
          "output_type": "display_data",
          "data": {
            "text/html": [
              "<style>\n",
              ".list-inline {list-style: none; margin:0; padding: 0}\n",
              ".list-inline>li {display: inline-block}\n",
              ".list-inline>li:not(:last-child)::after {content: \"\\00b7\"; padding: 0 .5ex}\n",
              "</style>\n",
              "<ol class=list-inline><li>10</li><li>4</li><li>2</li><li>10</li><li>5</li><li>4</li></ol>\n"
            ],
            "text/markdown": "1. 10\n2. 4\n3. 2\n4. 10\n5. 5\n6. 4\n\n\n",
            "text/latex": "\\begin{enumerate*}\n\\item 10\n\\item 4\n\\item 2\n\\item 10\n\\item 5\n\\item 4\n\\end{enumerate*}\n",
            "text/plain": [
              "[1] 10  4  2 10  5  4"
            ]
          },
          "metadata": {}
        }
      ]
    },
    {
      "cell_type": "markdown",
      "source": [
        "Nella seconda simulazione su 10 prove sono stati ottenuti 4 successi con probabilità di successo pari a 0.39.\n",
        "Nell’esempio la distribuzione marginale di 𝑋 non dipende da 𝑘 (numero di successi) infatti\n",
        "come dimostrato nelle dispense$𝑃 (𝑋 = 𝑘) = \\frac{1}{n+1}= \\frac{1}{11}= 0.0909090$\n",
        "\n",
        "Disegnando l’istogramma rispetto ai valori realizzati e salvati in pxk si nota che la distribuzione è assimilabile a quella di un’iniforme in (0,10) e che le densità sono proporzionali a $\\frac{1}{n+1}$"
      ],
      "metadata": {
        "id": "b3Fr11A7Hs8b"
      }
    },
    {
      "cell_type": "code",
      "source": [
        "h <- hist(pxk,\n",
        "breaks = seq(-0.5,n+0.5,1),\n",
        "freq=FALSE,\n",
        "ylim = c(0,0.10),\n",
        "xlab = \"Numero palline blu a sinistra della gialla \",\n",
        "ylab= \"Densita'\",\n",
        "main = \"Distribuzione marginale\"\n",
        ")\n",
        "\n",
        "h$density"
      ],
      "metadata": {
        "colab": {
          "base_uri": "https://localhost:8080/",
          "height": 454
        },
        "id": "Z7tqe14GHtDZ",
        "outputId": "4e9c9c73-d2a9-4ed4-ec5c-a5a46f26c1a5"
      },
      "execution_count": 19,
      "outputs": [
        {
          "output_type": "display_data",
          "data": {
            "text/html": [
              "<style>\n",
              ".list-inline {list-style: none; margin:0; padding: 0}\n",
              ".list-inline>li {display: inline-block}\n",
              ".list-inline>li:not(:last-child)::after {content: \"\\00b7\"; padding: 0 .5ex}\n",
              "</style>\n",
              "<ol class=list-inline><li>0.09105</li><li>0.09036</li><li>0.09179</li><li>0.0902</li><li>0.09181</li><li>0.09125</li><li>0.09141</li><li>0.09086</li><li>0.08943</li><li>0.09082</li><li>0.09102</li></ol>\n"
            ],
            "text/markdown": "1. 0.09105\n2. 0.09036\n3. 0.09179\n4. 0.0902\n5. 0.09181\n6. 0.09125\n7. 0.09141\n8. 0.09086\n9. 0.08943\n10. 0.09082\n11. 0.09102\n\n\n",
            "text/latex": "\\begin{enumerate*}\n\\item 0.09105\n\\item 0.09036\n\\item 0.09179\n\\item 0.0902\n\\item 0.09181\n\\item 0.09125\n\\item 0.09141\n\\item 0.09086\n\\item 0.08943\n\\item 0.09082\n\\item 0.09102\n\\end{enumerate*}\n",
            "text/plain": [
              " [1] 0.09105 0.09036 0.09179 0.09020 0.09181 0.09125 0.09141 0.09086 0.08943\n",
              "[10] 0.09082 0.09102"
            ]
          },
          "metadata": {}
        },
        {
          "output_type": "display_data",
          "data": {
            "text/plain": [
              "Plot with title “Distribuzione marginale”"
            ],
            "image/png": "[encoded data removed]"
          },
          "metadata": {
            "image/png": {
              "width": 420,
              "height": 420
            }
          }
        }
      ]
    },
    {
      "cell_type": "markdown",
      "source": [
        "## Esercizio 6\n",
        "In un campione casuale di 20 persone 12 sono risultate positive al covid. Assumendo\n",
        "il modello coniugato Beta Binomiale con distribuzione avente i seguenti iperparametri\n",
        "\n",
        "1) 𝛼 = 𝛽 = 0.2,\n",
        "\n",
        "2) 𝛼 = 𝛽 = 1.5 e\n",
        "\n",
        "3) 𝛼 = 4 e 𝛽 = 8.\n",
        "\n",
        "Si disegni in un’unico grafico la prior e la distribuzione a posteriori per ogni configurazione\n",
        "di parametri e si commenti ogni grafico calcolando anche il valore della\n",
        "mediana e della moda della distribuzione a posteriori.\n",
        "\n",
        "\n",
        "## SOLUZIONI ESERCIZIO 6\n",
        "Definiamo la seguente funzione beta_binom_plot() per realizzare il grafico con le tre curve richieste:\n"
      ],
      "metadata": {
        "id": "iqbnBrUQ51mr"
      }
    },
    {
      "cell_type": "markdown",
      "source": [],
      "metadata": {
        "id": "kJ2-f4xC51pv"
      }
    }
  ]
}